{
  "cells":[
    {
      "cell_type":"code",
      "source":[
        "from sklearn.datasets import load_wine\n",
        "import pandas as pd"
      ],
      "execution_count":0,
      "outputs":[
        
      ],
      "metadata":{
        
      }
    },
    {
      "cell_type":"code",
      "source":[
        "wine = load_wine()\n",
        "dir(wine)"
      ],
      "execution_count":0,
      "outputs":[
        {
          "data":{
            "text\/plain":[
              "['DESCR', 'data', 'feature_names', 'frame', 'target', 'target_names']"
            ]
          },
          "metadata":{
            
          },
          "output_type":"display_data"
        }
      ],
      "metadata":{
        
      }
    },
    {
      "cell_type":"code",
      "source":[
        "df = pd.DataFrame(wine.data, columns=wine.feature_names)\n",
        "df[\"target\"] = wine.target\n",
        "df.head()"
      ],
      "execution_count":0,
      "outputs":[
        {
          "data":{
            "text\/html":[
              "<div>\n",
              "<style scoped>\n",
              "    .dataframe tbody tr th:only-of-type {\n",
              "        vertical-align: middle;\n",
              "    }\n",
              "\n",
              "    .dataframe tbody tr th {\n",
              "        vertical-align: top;\n",
              "    }\n",
              "\n",
              "    .dataframe thead th {\n",
              "        text-align: right;\n",
              "    }\n",
              "<\/style>\n",
              "<table border=\"1\" class=\"dataframe\">\n",
              "  <thead>\n",
              "    <tr style=\"text-align: right;\">\n",
              "      <th><\/th>\n",
              "      <th>alcohol<\/th>\n",
              "      <th>malic_acid<\/th>\n",
              "      <th>ash<\/th>\n",
              "      <th>alcalinity_of_ash<\/th>\n",
              "      <th>magnesium<\/th>\n",
              "      <th>total_phenols<\/th>\n",
              "      <th>flavanoids<\/th>\n",
              "      <th>nonflavanoid_phenols<\/th>\n",
              "      <th>proanthocyanins<\/th>\n",
              "      <th>color_intensity<\/th>\n",
              "      <th>hue<\/th>\n",
              "      <th>od280\/od315_of_diluted_wines<\/th>\n",
              "      <th>proline<\/th>\n",
              "      <th>target<\/th>\n",
              "    <\/tr>\n",
              "  <\/thead>\n",
              "  <tbody>\n",
              "    <tr>\n",
              "      <th>0<\/th>\n",
              "      <td>14.23<\/td>\n",
              "      <td>1.71<\/td>\n",
              "      <td>2.43<\/td>\n",
              "      <td>15.6<\/td>\n",
              "      <td>127.0<\/td>\n",
              "      <td>2.80<\/td>\n",
              "      <td>3.06<\/td>\n",
              "      <td>0.28<\/td>\n",
              "      <td>2.29<\/td>\n",
              "      <td>5.64<\/td>\n",
              "      <td>1.04<\/td>\n",
              "      <td>3.92<\/td>\n",
              "      <td>1065.0<\/td>\n",
              "      <td>0<\/td>\n",
              "    <\/tr>\n",
              "    <tr>\n",
              "      <th>1<\/th>\n",
              "      <td>13.20<\/td>\n",
              "      <td>1.78<\/td>\n",
              "      <td>2.14<\/td>\n",
              "      <td>11.2<\/td>\n",
              "      <td>100.0<\/td>\n",
              "      <td>2.65<\/td>\n",
              "      <td>2.76<\/td>\n",
              "      <td>0.26<\/td>\n",
              "      <td>1.28<\/td>\n",
              "      <td>4.38<\/td>\n",
              "      <td>1.05<\/td>\n",
              "      <td>3.40<\/td>\n",
              "      <td>1050.0<\/td>\n",
              "      <td>0<\/td>\n",
              "    <\/tr>\n",
              "    <tr>\n",
              "      <th>2<\/th>\n",
              "      <td>13.16<\/td>\n",
              "      <td>2.36<\/td>\n",
              "      <td>2.67<\/td>\n",
              "      <td>18.6<\/td>\n",
              "      <td>101.0<\/td>\n",
              "      <td>2.80<\/td>\n",
              "      <td>3.24<\/td>\n",
              "      <td>0.30<\/td>\n",
              "      <td>2.81<\/td>\n",
              "      <td>5.68<\/td>\n",
              "      <td>1.03<\/td>\n",
              "      <td>3.17<\/td>\n",
              "      <td>1185.0<\/td>\n",
              "      <td>0<\/td>\n",
              "    <\/tr>\n",
              "    <tr>\n",
              "      <th>3<\/th>\n",
              "      <td>14.37<\/td>\n",
              "      <td>1.95<\/td>\n",
              "      <td>2.50<\/td>\n",
              "      <td>16.8<\/td>\n",
              "      <td>113.0<\/td>\n",
              "      <td>3.85<\/td>\n",
              "      <td>3.49<\/td>\n",
              "      <td>0.24<\/td>\n",
              "      <td>2.18<\/td>\n",
              "      <td>7.80<\/td>\n",
              "      <td>0.86<\/td>\n",
              "      <td>3.45<\/td>\n",
              "      <td>1480.0<\/td>\n",
              "      <td>0<\/td>\n",
              "    <\/tr>\n",
              "    <tr>\n",
              "      <th>4<\/th>\n",
              "      <td>13.24<\/td>\n",
              "      <td>2.59<\/td>\n",
              "      <td>2.87<\/td>\n",
              "      <td>21.0<\/td>\n",
              "      <td>118.0<\/td>\n",
              "      <td>2.80<\/td>\n",
              "      <td>2.69<\/td>\n",
              "      <td>0.39<\/td>\n",
              "      <td>1.82<\/td>\n",
              "      <td>4.32<\/td>\n",
              "      <td>1.04<\/td>\n",
              "      <td>2.93<\/td>\n",
              "      <td>735.0<\/td>\n",
              "      <td>0<\/td>\n",
              "    <\/tr>\n",
              "  <\/tbody>\n",
              "<\/table>\n",
              "<\/div>"
            ]
          },
          "metadata":{
            
          },
          "output_type":"display_data"
        }
      ],
      "metadata":{
        
      }
    },
    {
      "cell_type":"code",
      "source":[
        "x = df.drop(['target'], axis='columns')\n",
        "y = df.target"
      ],
      "execution_count":0,
      "outputs":[
        
      ],
      "metadata":{
        
      }
    },
    {
      "cell_type":"code",
      "source":[
        "from sklearn.model_selection import train_test_split\n",
        "x_train, x_test, y_train, y_test = train_test_split(x, y, train_size=0.7)"
      ],
      "execution_count":0,
      "outputs":[
        
      ],
      "metadata":{
        
      }
    },
    {
      "cell_type":"markdown",
      "source":[
        "**Using naive bayes guassian Classifier**"
      ],
      "attachments":{
        
      },
      "metadata":{
        
      }
    },
    {
      "cell_type":"code",
      "source":[
        "from sklearn.naive_bayes import GaussianNB"
      ],
      "execution_count":0,
      "outputs":[
        
      ],
      "metadata":{
        
      }
    },
    {
      "cell_type":"code",
      "source":[
        "gNB = GaussianNB()\n",
        "gNB.fit(x_train, y_train)"
      ],
      "execution_count":0,
      "outputs":[
        {
          "data":{
            "text\/plain":[
              "GaussianNB()"
            ]
          },
          "metadata":{
            
          },
          "output_type":"display_data"
        }
      ],
      "metadata":{
        
      }
    },
    {
      "cell_type":"code",
      "source":[
        "gNB.score(x_test, y_test)"
      ],
      "execution_count":0,
      "outputs":[
        {
          "data":{
            "text\/plain":[
              "0.9814814814814815"
            ]
          },
          "metadata":{
            
          },
          "output_type":"display_data"
        }
      ],
      "metadata":{
        
      }
    },
    {
      "cell_type":"markdown",
      "source":[
        "**Using naive bayes multinominal Classifier**"
      ],
      "attachments":{
        
      },
      "metadata":{
        
      }
    },
    {
      "cell_type":"code",
      "source":[
        "from sklearn.naive_bayes import MultinomialNB"
      ],
      "execution_count":0,
      "outputs":[
        
      ],
      "metadata":{
        
      }
    },
    {
      "cell_type":"code",
      "source":[
        "mNB = MultinomialNB()\n",
        "mNB.fit(x_train, y_train)"
      ],
      "execution_count":0,
      "outputs":[
        {
          "data":{
            "text\/plain":[
              "MultinomialNB()"
            ]
          },
          "metadata":{
            
          },
          "output_type":"display_data"
        }
      ],
      "metadata":{
        
      }
    },
    {
      "cell_type":"code",
      "source":[
        "\n",
        "mNB.score(x_test, y_test)"
      ],
      "execution_count":0,
      "outputs":[
        {
          "data":{
            "text\/plain":[
              "0.8333333333333334"
            ]
          },
          "metadata":{
            
          },
          "output_type":"display_data"
        }
      ],
      "metadata":{
        
      }
    },
    {
      "cell_type":"markdown",
      "source":[
        "As, Guassien classifier is having a score of around 98% as compared to multinominal having score of around 83%.\n",
        "\n",
        "**So, guassien classier have performed better!**"
      ],
      "attachments":{
        
      },
      "metadata":{
        
      }
    },
    {
      "cell_type":"code",
      "source":[
        
      ],
      "execution_count":0,
      "outputs":[
        
      ],
      "metadata":{
        
      }
    }
  ],
  "metadata":{
    
  },
  "nbformat":4,
  "nbformat_minor":0
}