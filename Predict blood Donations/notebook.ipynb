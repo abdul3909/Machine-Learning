{
 "cells": [
  {
   "cell_type": "markdown",
   "source": "## 1. Inspecting transfusion.data file\n<p><img src=\"https://assets.datacamp.com/production/project_646/img/blood_donation.png\" style=\"float: right;\" alt=\"A pictogram of a blood bag with blood donation written in it\" width=\"200\"></p>\n<p>Blood transfusion saves lives - from replacing lost blood during major surgery or a serious injury to treating various illnesses and blood disorders. Ensuring that there's enough blood in supply whenever needed is a serious challenge for the health professionals. According to <a href=\"https://www.webmd.com/a-to-z-guides/blood-transfusion-what-to-know#1\">WebMD</a>, \"about 5 million Americans need a blood transfusion every year\".</p>\n<p>Our dataset is from a mobile blood donation vehicle in Taiwan. The Blood Transfusion Service Center drives to different universities and collects blood as part of a blood drive. We want to predict whether or not a donor will give blood the next time the vehicle comes to campus.</p>\n<p>The data is stored in <code>datasets/transfusion.data</code> and it is structured according to RFMTC marketing model (a variation of RFM). We'll explore what that means later in this notebook. First, let's inspect the data.</p>",
   "metadata": {
    "dc": {
     "key": "3"
    },
    "deletable": false,
    "editable": false,
    "run_control": {
     "frozen": true
    },
    "tags": [
     "context"
    ],
    "cell_id": "165c0579-d423-41d1-823a-edf75105564e",
    "deepnote_cell_type": "markdown",
    "deepnote_cell_height": 405.078125
   }
  },
  {
   "cell_type": "markdown",
   "source": "## 2. Loading the blood donations data\n<p>We now know that we are working with a typical CSV file (i.e., the delimiter is <code>,</code>, etc.). We proceed to loading the data into memory.</p>",
   "metadata": {
    "dc": {
     "key": "10"
    },
    "deletable": false,
    "editable": false,
    "run_control": {
     "frozen": true
    },
    "tags": [
     "context"
    ],
    "cell_id": "00002-4f105e9e-878c-429c-8b16-d19452457ddc",
    "deepnote_cell_type": "markdown",
    "deepnote_cell_height": 130.78125
   }
  },
  {
   "cell_type": "code",
   "source": "# Import pandas\nimport pandas as pd\n\n# Read in dataset\ntransfusion = pd.read_csv(\"/datasets/deepnote-demo/transfusion.data\")\n\n# Print out the first rows of our dataset\n# ... YOUR CODE FOR TASK 2 ...\ntransfusion.head()",
   "metadata": {
    "dc": {
     "key": "10"
    },
    "tags": [
     "sample_code"
    ],
    "trusted": true,
    "cell_id": "00003-0225d6ca-7549-41d7-b929-81fd99889f13",
    "deepnote_to_be_reexecuted": false,
    "source_hash": "4b24394c",
    "execution_start": 1661224859311,
    "execution_millis": 26,
    "deepnote_cell_type": "code",
    "deepnote_cell_height": 284.6875,
    "deepnote_output_heights": [
     176
    ]
   },
   "execution_count": 3,
   "outputs": [
    {
     "output_type": "execute_result",
     "execution_count": 3,
     "data": {
      "application/vnd.deepnote.dataframe.v3+json": {
       "column_count": 5,
       "row_count": 5,
       "columns": [
        {
         "name": "Recency (months)",
         "dtype": "int64",
         "stats": {
          "unique_count": 3,
          "nan_count": 0,
          "min": "0",
          "max": "2",
          "histogram": [
           {
            "bin_start": 0,
            "bin_end": 0.2,
            "count": 1
           },
           {
            "bin_start": 0.2,
            "bin_end": 0.4,
            "count": 0
           },
           {
            "bin_start": 0.4,
            "bin_end": 0.6000000000000001,
            "count": 0
           },
           {
            "bin_start": 0.6000000000000001,
            "bin_end": 0.8,
            "count": 0
           },
           {
            "bin_start": 0.8,
            "bin_end": 1,
            "count": 0
           },
           {
            "bin_start": 1,
            "bin_end": 1.2000000000000002,
            "count": 2
           },
           {
            "bin_start": 1.2000000000000002,
            "bin_end": 1.4000000000000001,
            "count": 0
           },
           {
            "bin_start": 1.4000000000000001,
            "bin_end": 1.6,
            "count": 0
           },
           {
            "bin_start": 1.6,
            "bin_end": 1.8,
            "count": 0
           },
           {
            "bin_start": 1.8,
            "bin_end": 2,
            "count": 2
           }
          ]
         }
        },
        {
         "name": "Frequency (times)",
         "dtype": "int64",
         "stats": {
          "unique_count": 5,
          "nan_count": 0,
          "min": "13",
          "max": "50",
          "histogram": [
           {
            "bin_start": 13,
            "bin_end": 16.7,
            "count": 2
           },
           {
            "bin_start": 16.7,
            "bin_end": 20.4,
            "count": 1
           },
           {
            "bin_start": 20.4,
            "bin_end": 24.1,
            "count": 1
           },
           {
            "bin_start": 24.1,
            "bin_end": 27.8,
            "count": 0
           },
           {
            "bin_start": 27.8,
            "bin_end": 31.5,
            "count": 0
           },
           {
            "bin_start": 31.5,
            "bin_end": 35.2,
            "count": 0
           },
           {
            "bin_start": 35.2,
            "bin_end": 38.900000000000006,
            "count": 0
           },
           {
            "bin_start": 38.900000000000006,
            "bin_end": 42.6,
            "count": 0
           },
           {
            "bin_start": 42.6,
            "bin_end": 46.300000000000004,
            "count": 0
           },
           {
            "bin_start": 46.300000000000004,
            "bin_end": 50,
            "count": 1
           }
          ]
         }
        },
        {
         "name": "Monetary (c.c. blood)",
         "dtype": "int64",
         "stats": {
          "unique_count": 5,
          "nan_count": 0,
          "min": "3250",
          "max": "12500",
          "histogram": [
           {
            "bin_start": 3250,
            "bin_end": 4175,
            "count": 2
           },
           {
            "bin_start": 4175,
            "bin_end": 5100,
            "count": 1
           },
           {
            "bin_start": 5100,
            "bin_end": 6025,
            "count": 1
           },
           {
            "bin_start": 6025,
            "bin_end": 6950,
            "count": 0
           },
           {
            "bin_start": 6950,
            "bin_end": 7875,
            "count": 0
           },
           {
            "bin_start": 7875,
            "bin_end": 8800,
            "count": 0
           },
           {
            "bin_start": 8800,
            "bin_end": 9725,
            "count": 0
           },
           {
            "bin_start": 9725,
            "bin_end": 10650,
            "count": 0
           },
           {
            "bin_start": 10650,
            "bin_end": 11575,
            "count": 0
           },
           {
            "bin_start": 11575,
            "bin_end": 12500,
            "count": 1
           }
          ]
         }
        },
        {
         "name": "Time (months)",
         "dtype": "int64",
         "stats": {
          "unique_count": 5,
          "nan_count": 0,
          "min": "28",
          "max": "98",
          "histogram": [
           {
            "bin_start": 28,
            "bin_end": 35,
            "count": 1
           },
           {
            "bin_start": 35,
            "bin_end": 42,
            "count": 1
           },
           {
            "bin_start": 42,
            "bin_end": 49,
            "count": 1
           },
           {
            "bin_start": 49,
            "bin_end": 56,
            "count": 0
           },
           {
            "bin_start": 56,
            "bin_end": 63,
            "count": 0
           },
           {
            "bin_start": 63,
            "bin_end": 70,
            "count": 0
           },
           {
            "bin_start": 70,
            "bin_end": 77,
            "count": 0
           },
           {
            "bin_start": 77,
            "bin_end": 84,
            "count": 1
           },
           {
            "bin_start": 84,
            "bin_end": 91,
            "count": 0
           },
           {
            "bin_start": 91,
            "bin_end": 98,
            "count": 1
           }
          ]
         }
        },
        {
         "name": "whether he/she donated blood in March 2007",
         "dtype": "int64",
         "stats": {
          "unique_count": 2,
          "nan_count": 0,
          "min": "0",
          "max": "1",
          "histogram": [
           {
            "bin_start": 0,
            "bin_end": 0.1,
            "count": 1
           },
           {
            "bin_start": 0.1,
            "bin_end": 0.2,
            "count": 0
           },
           {
            "bin_start": 0.2,
            "bin_end": 0.30000000000000004,
            "count": 0
           },
           {
            "bin_start": 0.30000000000000004,
            "bin_end": 0.4,
            "count": 0
           },
           {
            "bin_start": 0.4,
            "bin_end": 0.5,
            "count": 0
           },
           {
            "bin_start": 0.5,
            "bin_end": 0.6000000000000001,
            "count": 0
           },
           {
            "bin_start": 0.6000000000000001,
            "bin_end": 0.7000000000000001,
            "count": 0
           },
           {
            "bin_start": 0.7000000000000001,
            "bin_end": 0.8,
            "count": 0
           },
           {
            "bin_start": 0.8,
            "bin_end": 0.9,
            "count": 0
           },
           {
            "bin_start": 0.9,
            "bin_end": 1,
            "count": 4
           }
          ]
         }
        },
        {
         "name": "_deepnote_index_column",
         "dtype": "int64"
        }
       ],
       "rows": [
        {
         "Recency (months)": 2,
         "Frequency (times)": 50,
         "Monetary (c.c. blood)": 12500,
         "Time (months)": 98,
         "whether he/she donated blood in March 2007": 1,
         "_deepnote_index_column": 0
        },
        {
         "Recency (months)": 0,
         "Frequency (times)": 13,
         "Monetary (c.c. blood)": 3250,
         "Time (months)": 28,
         "whether he/she donated blood in March 2007": 1,
         "_deepnote_index_column": 1
        },
        {
         "Recency (months)": 1,
         "Frequency (times)": 16,
         "Monetary (c.c. blood)": 4000,
         "Time (months)": 35,
         "whether he/she donated blood in March 2007": 1,
         "_deepnote_index_column": 2
        },
        {
         "Recency (months)": 2,
         "Frequency (times)": 20,
         "Monetary (c.c. blood)": 5000,
         "Time (months)": 45,
         "whether he/she donated blood in March 2007": 1,
         "_deepnote_index_column": 3
        },
        {
         "Recency (months)": 1,
         "Frequency (times)": 24,
         "Monetary (c.c. blood)": 6000,
         "Time (months)": 77,
         "whether he/she donated blood in March 2007": 0,
         "_deepnote_index_column": 4
        }
       ]
      },
      "text/plain": "   Recency (months)  Frequency (times)  Monetary (c.c. blood)  Time (months)  \\\n0                 2                 50                  12500             98   \n1                 0                 13                   3250             28   \n2                 1                 16                   4000             35   \n3                 2                 20                   5000             45   \n4                 1                 24                   6000             77   \n\n   whether he/she donated blood in March 2007  \n0                                           1  \n1                                           1  \n2                                           1  \n3                                           1  \n4                                           0  ",
      "text/html": "<div>\n<style scoped>\n    .dataframe tbody tr th:only-of-type {\n        vertical-align: middle;\n    }\n\n    .dataframe tbody tr th {\n        vertical-align: top;\n    }\n\n    .dataframe thead th {\n        text-align: right;\n    }\n</style>\n<table border=\"1\" class=\"dataframe\">\n  <thead>\n    <tr style=\"text-align: right;\">\n      <th></th>\n      <th>Recency (months)</th>\n      <th>Frequency (times)</th>\n      <th>Monetary (c.c. blood)</th>\n      <th>Time (months)</th>\n      <th>whether he/she donated blood in March 2007</th>\n    </tr>\n  </thead>\n  <tbody>\n    <tr>\n      <th>0</th>\n      <td>2</td>\n      <td>50</td>\n      <td>12500</td>\n      <td>98</td>\n      <td>1</td>\n    </tr>\n    <tr>\n      <th>1</th>\n      <td>0</td>\n      <td>13</td>\n      <td>3250</td>\n      <td>28</td>\n      <td>1</td>\n    </tr>\n    <tr>\n      <th>2</th>\n      <td>1</td>\n      <td>16</td>\n      <td>4000</td>\n      <td>35</td>\n      <td>1</td>\n    </tr>\n    <tr>\n      <th>3</th>\n      <td>2</td>\n      <td>20</td>\n      <td>5000</td>\n      <td>45</td>\n      <td>1</td>\n    </tr>\n    <tr>\n      <th>4</th>\n      <td>1</td>\n      <td>24</td>\n      <td>6000</td>\n      <td>77</td>\n      <td>0</td>\n    </tr>\n  </tbody>\n</table>\n</div>"
     },
     "metadata": {}
    }
   ]
  },
  {
   "cell_type": "markdown",
   "source": "## 3. Inspecting transfusion DataFrame\n<p>Let's briefly return to our discussion of RFM model. RFM stands for Recency, Frequency and Monetary Value and it is commonly used in marketing for identifying your best customers. In our case, our customers are blood donors.</p>\n<p>RFMTC is a variation of the RFM model. Below is a description of what each column means in our dataset:</p>\n<ul>\n<li>R (Recency - months since the last donation)</li>\n<li>F (Frequency - total number of donation)</li>\n<li>M (Monetary - total blood donated in c.c.)</li>\n<li>T (Time - months since the first donation)</li>\n<li>a binary variable representing whether he/she donated blood in March 2007 (1 stands for donating blood; 0 stands for not donating blood)</li>\n</ul>\n<p>It looks like every column in our DataFrame has the numeric type, which is exactly what we want when building a machine learning model. Let's verify our hypothesis.</p>",
   "metadata": {
    "dc": {
     "key": "17"
    },
    "deletable": false,
    "editable": false,
    "run_control": {
     "frozen": true
    },
    "tags": [
     "context"
    ],
    "cell_id": "00004-5cf036f9-4b27-4e36-a052-624451dbbb69",
    "deepnote_cell_type": "markdown",
    "deepnote_cell_height": 605.8125
   }
  },
  {
   "cell_type": "code",
   "metadata": {
    "dc": {
     "key": "17"
    },
    "tags": [
     "sample_code"
    ],
    "trusted": true,
    "cell_id": "00005-2d266270-2d39-44e9-8a52-a04b673b8bab",
    "deepnote_cell_type": "code",
    "deepnote_cell_height": 324.875
   },
   "source": "# Print a concise summary of transfusion DataFrame\n# ... YOUR CODE FOR TASK 3 ...\ntransfusion.info()",
   "execution_count": null,
   "outputs": [
    {
     "output_type": "stream",
     "text": "<class 'pandas.core.frame.DataFrame'>\nRangeIndex: 748 entries, 0 to 747\nData columns (total 5 columns):\nRecency (months)                              748 non-null int64\nFrequency (times)                             748 non-null int64\nMonetary (c.c. blood)                         748 non-null int64\nTime (months)                                 748 non-null int64\nwhether he/she donated blood in March 2007    748 non-null int64\ndtypes: int64(5)\nmemory usage: 29.3 KB\n",
     "name": "stdout"
    }
   ]
  },
  {
   "cell_type": "markdown",
   "source": "## 4. Creating target column\n<p>We are aiming to predict the value in <code>whether he/she donated blood in March 2007</code> column. Let's rename this it to <code>target</code> so that it's more convenient to work with.</p>",
   "metadata": {
    "dc": {
     "key": "24"
    },
    "deletable": false,
    "editable": false,
    "run_control": {
     "frozen": true
    },
    "tags": [
     "context"
    ],
    "cell_id": "00006-493dfda0-7950-4183-bde0-9c40d10ceea6",
    "deepnote_cell_type": "markdown",
    "deepnote_cell_height": 130.78125
   }
  },
  {
   "cell_type": "code",
   "metadata": {
    "dc": {
     "key": "24"
    },
    "tags": [
     "sample_code"
    ],
    "trusted": true,
    "cell_id": "00007-5bd1306f-8262-4f14-a240-d30f2ad728ef",
    "deepnote_cell_type": "code",
    "deepnote_cell_height": 412,
    "deepnote_output_heights": [
     176
    ]
   },
   "source": "# Rename target column as 'target' for brevity \ntransfusion.rename(\n    columns={'whether he/she donated blood in March 2007': 'target'},\n    inplace=True\n)\n\n# Print out the first 2 rows\n# ... YOUR CODE FOR TASK 4 ...\ntransfusion.head()",
   "execution_count": null,
   "outputs": [
    {
     "output_type": "execute_result",
     "execution_count": 4,
     "data": {
      "text/plain": "   Recency (months)  Frequency (times)  Monetary (c.c. blood)  Time (months)  \\\n0                 2                 50                  12500             98   \n1                 0                 13                   3250             28   \n2                 1                 16                   4000             35   \n3                 2                 20                   5000             45   \n4                 1                 24                   6000             77   \n\n   target  \n0       1  \n1       1  \n2       1  \n3       1  \n4       0  ",
      "text/html": "<div>\n<style scoped>\n    .dataframe tbody tr th:only-of-type {\n        vertical-align: middle;\n    }\n\n    .dataframe tbody tr th {\n        vertical-align: top;\n    }\n\n    .dataframe thead th {\n        text-align: right;\n    }\n</style>\n<table border=\"1\" class=\"dataframe\">\n  <thead>\n    <tr style=\"text-align: right;\">\n      <th></th>\n      <th>Recency (months)</th>\n      <th>Frequency (times)</th>\n      <th>Monetary (c.c. blood)</th>\n      <th>Time (months)</th>\n      <th>target</th>\n    </tr>\n  </thead>\n  <tbody>\n    <tr>\n      <th>0</th>\n      <td>2</td>\n      <td>50</td>\n      <td>12500</td>\n      <td>98</td>\n      <td>1</td>\n    </tr>\n    <tr>\n      <th>1</th>\n      <td>0</td>\n      <td>13</td>\n      <td>3250</td>\n      <td>28</td>\n      <td>1</td>\n    </tr>\n    <tr>\n      <th>2</th>\n      <td>1</td>\n      <td>16</td>\n      <td>4000</td>\n      <td>35</td>\n      <td>1</td>\n    </tr>\n    <tr>\n      <th>3</th>\n      <td>2</td>\n      <td>20</td>\n      <td>5000</td>\n      <td>45</td>\n      <td>1</td>\n    </tr>\n    <tr>\n      <th>4</th>\n      <td>1</td>\n      <td>24</td>\n      <td>6000</td>\n      <td>77</td>\n      <td>0</td>\n    </tr>\n  </tbody>\n</table>\n</div>"
     },
     "metadata": {}
    }
   ]
  },
  {
   "cell_type": "markdown",
   "source": "## 5. Checking target incidence\n<p>We want to predict whether or not the same donor will give blood the next time the vehicle comes to campus. The model for this is a binary classifier, meaning that there are only 2 possible outcomes:</p>\n<ul>\n<li><code>0</code> - the donor will not give blood</li>\n<li><code>1</code> - the donor will give blood</li>\n</ul>\n<p>Target incidence is defined as the number of cases of each individual target value in a dataset. That is, how many 0s in the target column compared to how many 1s? Target incidence gives us an idea of how balanced (or imbalanced) is our dataset.</p>",
   "metadata": {
    "dc": {
     "key": "31"
    },
    "deletable": false,
    "editable": false,
    "run_control": {
     "frozen": true
    },
    "tags": [
     "context"
    ],
    "cell_id": "00008-170743b1-f140-45ea-8396-1ea8cb8196d0",
    "deepnote_cell_type": "markdown",
    "deepnote_cell_height": 372.296875
   }
  },
  {
   "cell_type": "code",
   "metadata": {
    "dc": {
     "key": "31"
    },
    "tags": [
     "sample_code"
    ],
    "trusted": true,
    "cell_id": "00009-a1492b56-60a5-4538-80a1-a8dad71675dd",
    "deepnote_cell_type": "code",
    "deepnote_cell_height": 186.5625,
    "deepnote_output_heights": [
     58.5625
    ]
   },
   "source": "# Print target incidence proportions, rounding output to 3 decimal places\n# ... YOUR CODE FOR TASK 5 ...\ntransfusion.target.value_counts(normalize=True).round(3)",
   "execution_count": null,
   "outputs": [
    {
     "output_type": "execute_result",
     "execution_count": 5,
     "data": {
      "text/plain": "0    0.762\n1    0.238\nName: target, dtype: float64"
     },
     "metadata": {}
    }
   ]
  },
  {
   "cell_type": "markdown",
   "source": "## 6. Splitting transfusion into train and test datasets\n<p>We'll now use <code>train_test_split()</code> method to split <code>transfusion</code> DataFrame.</p>\n<p>Target incidence informed us that in our dataset <code>0</code>s appear 76% of the time. We want to keep the same structure in train and test datasets, i.e., both datasets must have 0 target incidence of 76%. This is very easy to do using the <code>train_test_split()</code> method from the <code>scikit learn</code> library - all we need to do is specify the <code>stratify</code> parameter. In our case, we'll stratify on the <code>target</code> column.</p>",
   "metadata": {
    "dc": {
     "key": "38"
    },
    "deletable": false,
    "editable": false,
    "run_control": {
     "frozen": true
    },
    "tags": [
     "context"
    ],
    "cell_id": "00010-659115e4-f8aa-4ec3-b9e0-90540fa2797c",
    "deepnote_cell_type": "markdown",
    "deepnote_cell_height": 234.34375
   }
  },
  {
   "cell_type": "code",
   "metadata": {
    "dc": {
     "key": "38"
    },
    "tags": [
     "sample_code"
    ],
    "trusted": true,
    "cell_id": "00011-b25951a2-c534-4465-8844-96c1a288b876",
    "deepnote_cell_type": "code",
    "deepnote_cell_height": 469,
    "deepnote_output_heights": [
     89
    ]
   },
   "source": "# Import train_test_split method\nfrom sklearn.model_selection import train_test_split\n\n# Split transfusion DataFrame into\n# X_train, X_test, y_train and y_test datasets,\n# stratifying on the `target` column\nX_train, X_test, y_train, y_test = train_test_split(\n    transfusion.drop(columns='target'),\n    transfusion.target,\n    test_size=0.25,\n    random_state=42,\n    stratify=transfusion.target\n)\n\n# Print out the first 2 rows of X_train\n# ... YOUR CODE FOR TASK 6 ...\nX_train.head(2)",
   "execution_count": null,
   "outputs": [
    {
     "output_type": "execute_result",
     "execution_count": 6,
     "data": {
      "text/plain": "     Recency (months)  Frequency (times)  Monetary (c.c. blood)  Time (months)\n334                16                  2                    500             16\n99                  5                  7                   1750             26",
      "text/html": "<div>\n<style scoped>\n    .dataframe tbody tr th:only-of-type {\n        vertical-align: middle;\n    }\n\n    .dataframe tbody tr th {\n        vertical-align: top;\n    }\n\n    .dataframe thead th {\n        text-align: right;\n    }\n</style>\n<table border=\"1\" class=\"dataframe\">\n  <thead>\n    <tr style=\"text-align: right;\">\n      <th></th>\n      <th>Recency (months)</th>\n      <th>Frequency (times)</th>\n      <th>Monetary (c.c. blood)</th>\n      <th>Time (months)</th>\n    </tr>\n  </thead>\n  <tbody>\n    <tr>\n      <th>334</th>\n      <td>16</td>\n      <td>2</td>\n      <td>500</td>\n      <td>16</td>\n    </tr>\n    <tr>\n      <th>99</th>\n      <td>5</td>\n      <td>7</td>\n      <td>1750</td>\n      <td>26</td>\n    </tr>\n  </tbody>\n</table>\n</div>"
     },
     "metadata": {}
    }
   ]
  },
  {
   "cell_type": "markdown",
   "source": "## 7. Selecting model using TPOT\n<p><a href=\"https://github.com/EpistasisLab/tpot\">TPOT</a> is a Python Automated Machine Learning tool that optimizes machine learning pipelines using genetic programming.</p>\n<p><img src=\"https://assets.datacamp.com/production/project_646/img/tpot-ml-pipeline.png\" alt=\"TPOT Machine Learning Pipeline\"></p>\n<p>TPOT will automatically explore hundreds of possible pipelines to find the best one for our dataset. Note, the outcome of this search will be a <a href=\"https://scikit-learn.org/stable/modules/generated/sklearn.pipeline.Pipeline.html\">scikit-learn pipeline</a>, meaning it will include any pre-processing steps as well as the model.</p>\n<p>We are using TPOT to help us zero in on one model that we can then explore and optimize further.</p>",
   "metadata": {
    "dc": {
     "key": "45"
    },
    "deletable": false,
    "editable": false,
    "run_control": {
     "frozen": true
    },
    "tags": [
     "context"
    ],
    "cell_id": "00012-ec24a4f8-ac0f-439a-937e-213aae9bb52c",
    "deepnote_cell_type": "markdown",
    "deepnote_cell_height": 310.734375
   }
  },
  {
   "cell_type": "code",
   "metadata": {
    "dc": {
     "key": "45"
    },
    "tags": [
     "sample_code"
    ],
    "trusted": true,
    "cell_id": "00013-6132e647-8108-40d3-905d-5444d7c1ed61",
    "deepnote_cell_type": "code",
    "deepnote_cell_height": 883.8125
   },
   "source": "# Import TPOTClassifier and roc_auc_score\nfrom tpot import TPOTClassifier\nfrom sklearn.metrics import roc_auc_score\n\n# Instantiate TPOTClassifier\ntpot = TPOTClassifier(\n    generations=5,\n    population_size=20,\n    verbosity=2,\n    scoring='roc_auc',\n    random_state=42,\n    disable_update_check=True,\n    config_dict='TPOT light'\n)\ntpot.fit(X_train, y_train)\n\n# AUC score for tpot model\ntpot_auc_score = roc_auc_score(y_test, tpot.predict_proba(X_test)[:, 1])\nprint(f'\\nAUC score: {tpot_auc_score:.4f}')\n\n# Print best pipeline steps\nprint('\\nBest pipeline steps:', end='\\n')\nfor idx, (name, transform) in enumerate(tpot.fitted_pipeline_.steps, start=1):\n    # Print idx and transform\n    print(f'{idx}. {transform}')",
   "execution_count": null,
   "outputs": [
    {
     "output_type": "display_data",
     "data": {
      "text/plain": "HBox(children=(HTML(value='Optimization Progress'), FloatProgress(value=0.0, max=120.0), HTML(value='')))",
      "application/vnd.jupyter.widget-view+json": {
       "version_major": 2,
       "version_minor": 0,
       "model_id": "44b4637b019f411cbea38ea0061a97c7"
      }
     },
     "metadata": {}
    },
    {
     "output_type": "stream",
     "text": "Generation 1 - Current best internal CV score: 0.7433977184592779\nGeneration 2 - Current best internal CV score: 0.7433977184592779\nGeneration 3 - Current best internal CV score: 0.7433977184592779\nGeneration 4 - Current best internal CV score: 0.7433977184592779\nGeneration 5 - Current best internal CV score: 0.7433977184592779\n\nBest pipeline: LogisticRegression(input_matrix, C=0.5, dual=False, penalty=l2)\n\nAUC score: 0.7850\n\nBest pipeline steps:\n1. LogisticRegression(C=0.5, class_weight=None, dual=False, fit_intercept=True,\n          intercept_scaling=1, max_iter=100, multi_class='warn',\n          n_jobs=None, penalty='l2', random_state=None, solver='warn',\n          tol=0.0001, verbose=0, warm_start=False)\n",
     "name": "stdout"
    }
   ]
  },
  {
   "cell_type": "markdown",
   "source": "## 8. Checking the variance\n<p>TPOT picked <code>LogisticRegression</code> as the best model for our dataset with no pre-processing steps, giving us the AUC score of 0.7850. This is a great starting point. Let's see if we can make it better.</p>\n<p>One of the assumptions for linear models is that the data and the features we are giving it are related in a linear fashion, or can be measured with a linear distance metric. If a feature in our dataset has a high variance that's orders of magnitude greater than the other features, this could impact the model's ability to learn from other features in the dataset.</p>\n<p>Correcting for high variance is called normalization. It is one of the possible transformations you do before training a model. Let's check the variance to see if such transformation is needed.</p>",
   "metadata": {
    "dc": {
     "key": "52"
    },
    "deletable": false,
    "editable": false,
    "run_control": {
     "frozen": true
    },
    "tags": [
     "context"
    ],
    "cell_id": "00014-7b07885d-c966-45ef-abe2-5c61b91430b8",
    "deepnote_cell_type": "markdown",
    "deepnote_cell_height": 315.515625
   }
  },
  {
   "cell_type": "code",
   "metadata": {
    "dc": {
     "key": "52"
    },
    "tags": [
     "sample_code"
    ],
    "trusted": true,
    "cell_id": "00015-513931ef-9aed-4262-b513-6bfe618a986e",
    "deepnote_cell_type": "code",
    "deepnote_cell_height": 242.9375,
    "deepnote_output_heights": [
     96.9375
    ]
   },
   "source": "# X_train's variance, rounding the output to 3 decimal places\n# ... YOUR CODE FOR TASK 8 ...\n#X_train.var().round(3)\npd.DataFrame.var(X_train).round(3)",
   "execution_count": null,
   "outputs": [
    {
     "output_type": "execute_result",
     "execution_count": 8,
     "data": {
      "text/plain": "Recency (months)              66.929\nFrequency (times)             33.830\nMonetary (c.c. blood)    2114363.700\nTime (months)                611.147\ndtype: float64"
     },
     "metadata": {}
    }
   ]
  },
  {
   "cell_type": "markdown",
   "source": "## 9. Log normalization\n<p><code>Monetary (c.c. blood)</code>'s variance is very high in comparison to any other column in the dataset. This means that, unless accounted for, this feature may get more weight by the model (i.e., be seen as more important) than any other feature.</p>\n<p>One way to correct for high variance is to use log normalization.</p>",
   "metadata": {
    "dc": {
     "key": "59"
    },
    "deletable": false,
    "editable": false,
    "run_control": {
     "frozen": true
    },
    "tags": [
     "context"
    ],
    "cell_id": "00016-6014523f-ff1a-4fe8-99f7-d62761c9c5ee",
    "deepnote_cell_type": "markdown",
    "deepnote_cell_height": 189.5625
   }
  },
  {
   "cell_type": "code",
   "metadata": {
    "dc": {
     "key": "59"
    },
    "tags": [
     "sample_code"
    ],
    "trusted": true,
    "cell_id": "00017-ee3628d0-818c-454c-9a5c-d4fa781185c8",
    "deepnote_cell_type": "code",
    "deepnote_cell_height": 512.9375,
    "deepnote_output_heights": [
     96.9375
    ]
   },
   "source": "# Import numpy\nimport numpy as np\n\n# Copy X_train and X_test into X_train_normed and X_test_normed\nX_train_normed, X_test_normed = X_train.copy(), X_test.copy()\n\n# Specify which column to normalize\ncol_to_normalize = 'Monetary (c.c. blood)'\n\n# Log normalization\nfor df_ in [X_train_normed, X_test_normed]:\n    # Add log normalized column\n    df_['monetary_log'] = np.log(df_[col_to_normalize])\n    # Drop the original column\n    df_.drop(columns=col_to_normalize, inplace=True)\n\n# Check the variance for X_train_normed\n# ... YOUR CODE FOR TASK 9 ...\nX_train_normed.var().round(3)",
   "execution_count": null,
   "outputs": [
    {
     "output_type": "execute_result",
     "execution_count": 9,
     "data": {
      "text/plain": "Recency (months)      66.929\nFrequency (times)     33.830\nTime (months)        611.147\nmonetary_log           0.837\ndtype: float64"
     },
     "metadata": {}
    }
   ]
  },
  {
   "cell_type": "markdown",
   "source": "## 10. Training the logistic regression model\n<p>The variance looks much better now. Notice that now <code>Time (months)</code> has the largest variance, but it's not the <a href=\"https://en.wikipedia.org/wiki/Order_of_magnitude\">orders of magnitude</a> higher than the rest of the variables, so we'll leave it as is.</p>\n<p>We are now ready to train the logistic regression model.</p>",
   "metadata": {
    "dc": {
     "key": "66"
    },
    "deletable": false,
    "editable": false,
    "run_control": {
     "frozen": true
    },
    "tags": [
     "context"
    ],
    "cell_id": "00018-c02f084d-3505-4f1d-97a2-2448f07cab6f",
    "deepnote_cell_type": "markdown",
    "deepnote_cell_height": 189.5625
   }
  },
  {
   "cell_type": "code",
   "metadata": {
    "dc": {
     "key": "66"
    },
    "tags": [
     "sample_code"
    ],
    "trusted": true,
    "cell_id": "00019-5eb34bb7-0506-429b-91ad-d5b44a4600e3",
    "deepnote_cell_type": "code",
    "deepnote_cell_height": 379.375
   },
   "source": "# Importing modules\nfrom sklearn import linear_model\n\n# Instantiate LogisticRegression\nlogreg = linear_model.LogisticRegression(\n    solver='liblinear',\n    random_state=42\n)\n\n# Train the model\nlogreg.fit(X_train_normed, y_train)\n\n# AUC score for tpot model\nlogreg_auc_score = roc_auc_score(y_test, logreg.predict_proba(X_test_normed)[:, 1])\nprint(f'\\nAUC score: {logreg_auc_score:.4f}')",
   "execution_count": null,
   "outputs": [
    {
     "output_type": "stream",
     "text": "\nAUC score: 0.7891\n",
     "name": "stdout"
    }
   ]
  },
  {
   "cell_type": "markdown",
   "source": "## 11. Conclusion\n<p>The demand for blood fluctuates throughout the year. As one <a href=\"https://www.kjrh.com/news/local-news/red-cross-in-blood-donation-crisis\">prominent</a> example, blood donations slow down during busy holiday seasons. An accurate forecast for the future supply of blood allows for an appropriate action to be taken ahead of time and therefore saving more lives.</p>\n<p>In this notebook, we explored automatic model selection using TPOT and AUC score we got was 0.7850. This is better than simply choosing <code>0</code> all the time (the target incidence suggests that such a model would have 76% success rate). We then log normalized our training data and improved the AUC score by 0.5%. In the field of machine learning, even small improvements in accuracy can be important, depending on the purpose.</p>\n<p>Another benefit of using logistic regression model is that it is interpretable. We can analyze how much of the variance in the response variable (<code>target</code>) can be explained by other variables in our dataset.</p>",
   "metadata": {
    "dc": {
     "key": "73"
    },
    "deletable": false,
    "editable": false,
    "run_control": {
     "frozen": true
    },
    "tags": [
     "context"
    ],
    "cell_id": "00020-2365e1ef-fe59-4ff9-96a0-e536aaad5870",
    "deepnote_cell_type": "markdown",
    "deepnote_cell_height": 360.296875
   }
  },
  {
   "cell_type": "code",
   "metadata": {
    "dc": {
     "key": "73"
    },
    "tags": [
     "sample_code"
    ],
    "collapsed": true,
    "trusted": true,
    "cell_id": "00021-5f6b3328-7721-4e80-a1c0-a12c0ebdc091",
    "deepnote_cell_type": "code",
    "deepnote_cell_height": 205
   },
   "source": "# Importing itemgetter\nfrom operator import itemgetter\n\n# Sort models based on their AUC score from highest to lowest\nsorted(\n    [('tpot', tpot_auc_score), ('logreg', logreg_auc_score)],\n    key=itemgetter(1),\n    ...=...\n)",
   "execution_count": null,
   "outputs": []
  },
  {
   "cell_type": "markdown",
   "source": "<a style='text-decoration:none;line-height:16px;display:flex;color:#5B5B62;padding:10px;justify-content:end;' href='https://deepnote.com?utm_source=created-in-deepnote-cell&projectId=53a5611f-9cb9-4073-9ea4-648b2fe41a61' target=\"_blank\">\n<img alt='Created in deepnote.com' style='display:inline;max-height:16px;margin:0px;margin-right:7.5px;' src='data:image/svg+xml;base64,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' > </img>\nCreated in <span style='font-weight:600;margin-left:4px;'>Deepnote</span></a>",
   "metadata": {
    "tags": [],
    "created_in_deepnote_cell": true,
    "deepnote_cell_type": "markdown"
   }
  }
 ],
 "nbformat": 4,
 "nbformat_minor": 2,
 "metadata": {
  "kernelspec": {
   "name": "python3",
   "display_name": "Python 3",
   "language": "python"
  },
  "language_info": {
   "name": "python",
   "version": "3.6.7",
   "mimetype": "text/x-python",
   "codemirror_mode": {
    "name": "ipython",
    "version": 3
   },
   "pygments_lexer": "ipython3",
   "nbconvert_exporter": "python",
   "file_extension": ".py"
  },
  "deepnote_notebook_id": "c95d4b0f-b043-4600-8865-63d047f9d4da",
  "deepnote": {},
  "deepnote_execution_queue": []
 }
}